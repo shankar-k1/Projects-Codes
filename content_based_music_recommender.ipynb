{
  "nbformat": 4,
  "nbformat_minor": 0,
  "metadata": {
    "kernelspec": {
      "display_name": "Python 3",
      "language": "python",
      "name": "python3"
    },
    "language_info": {
      "codemirror_mode": {
        "name": "ipython",
        "version": 3
      },
      "file_extension": ".py",
      "mimetype": "text/x-python",
      "name": "python",
      "nbconvert_exporter": "python",
      "pygments_lexer": "ipython3",
      "version": "3.6.6"
    },
    "colab": {
      "name": "content_based_music_recommender.ipynb",
      "provenance": [],
      "collapsed_sections": [],
      "include_colab_link": true
    }
  },
  "cells": [
    {
      "cell_type": "markdown",
      "metadata": {
        "id": "view-in-github",
        "colab_type": "text"
      },
      "source": [
        "<a href=\"https://colab.research.google.com/github/shankar-k1/Projects-Codes/blob/main/content_based_music_recommender.ipynb\" target=\"_parent\"><img src=\"https://colab.research.google.com/assets/colab-badge.svg\" alt=\"Open In Colab\"/></a>"
      ]
    },
    {
      "cell_type": "markdown",
      "metadata": {
        "id": "4VX8zcztLmNL"
      },
      "source": [
        "# Music recommender system\n",
        "\n",
        "One of the most used machine learning algorithms is recommendation systems. A **recommender** (or recommendation) **system** (or engine) is a filtering system which aim is to predict a rating or preference a user would give to an item, eg. a film, a product, a song, etc.\n",
        "\n",
        "Which type of recommender can we have?   \n",
        "\n",
        "There are two main types of recommender systems: \n",
        "- Content-based filters\n",
        "- Collaborative filters\n",
        "  \n",
        "> Content-based filters predicts what a user likes based on what that particular user has liked in the past. On the other hand, collaborative-based filters predict what a user like based on what other users, that are similar to that particular user, have liked.\n",
        "\n",
        "### 1) Content-based filters\n",
        "\n",
        "Recommendations done using content-based recommenders can be seen as a user-specific classification problem. This classifier learns the user's likes and dislikes from the features of the song.\n",
        "\n",
        "The most straightforward approach is **keyword matching**.\n",
        "\n",
        "In a few words, the idea behind is to extract meaningful keywords present in a song description a user likes, search for the keywords in other song descriptions to estimate similarities among them, and based on that, recommend those songs to the user.\n",
        "\n",
        "*How is this performed?*\n",
        "\n",
        "In our case, because we are working with text and words, **Term Frequency-Inverse Document Frequency (TF-IDF)** can be used for this matching process.\n",
        "  \n",
        "We'll go through the steps for generating a **content-based** music recommender system."
      ]
    },
    {
      "cell_type": "code",
      "metadata": {
        "colab": {
          "base_uri": "https://localhost:8080/"
        },
        "id": "jbL9e65ILvAR",
        "outputId": "da7cb569-e07a-454f-a6d0-554a72873131"
      },
      "source": [
        "from google.colab import drive\n",
        "drive.mount('/content/drive')"
      ],
      "execution_count": 1,
      "outputs": [
        {
          "output_type": "stream",
          "text": [
            "Mounted at /content/drive\n"
          ],
          "name": "stdout"
        }
      ]
    },
    {
      "cell_type": "markdown",
      "metadata": {
        "id": "ejVNsVH5LmNY"
      },
      "source": [
        "### Importing required libraries\n",
        "\n",
        "First, we'll import all the required libraries."
      ]
    },
    {
      "cell_type": "code",
      "metadata": {
        "id": "bFAsYLxHLmNa"
      },
      "source": [
        "import numpy as np\n",
        "import pandas as pd"
      ],
      "execution_count": 2,
      "outputs": []
    },
    {
      "cell_type": "code",
      "metadata": {
        "id": "IQ6_nm9mLmNc"
      },
      "source": [
        "from typing import List, Dict"
      ],
      "execution_count": 3,
      "outputs": []
    },
    {
      "cell_type": "markdown",
      "metadata": {
        "id": "qfxeD_GoLmNd"
      },
      "source": [
        "We have already used the **TF-IDF score before** when performing Twitter sentiment analysis. \n",
        "\n",
        "Likewise, we are going to use TfidfVectorizer from the Scikit-learn package again."
      ]
    },
    {
      "cell_type": "code",
      "metadata": {
        "id": "Nf43ZGcsLmNd"
      },
      "source": [
        "from sklearn.feature_extraction.text import TfidfVectorizer\n",
        "from sklearn.metrics.pairwise import cosine_similarity"
      ],
      "execution_count": 4,
      "outputs": []
    },
    {
      "cell_type": "markdown",
      "metadata": {
        "id": "NMqrN-OULmNe"
      },
      "source": [
        "### Dataset"
      ]
    },
    {
      "cell_type": "markdown",
      "metadata": {
        "id": "6Teh6Q61LmNe"
      },
      "source": [
        "So imagine that we have the [following dataset](https://www.kaggle.com/mousehead/songlyrics/data#). \n",
        "\n",
        "This dataset contains name, artist, and lyrics for *57650 songs in English*. The data has been acquired from LyricsFreak through scraping."
      ]
    },
    {
      "cell_type": "code",
      "metadata": {
        "id": "cC4VxFr1LmNf"
      },
      "source": [
        "songs = pd.read_csv('/content/drive/MyDrive/song_data.csv')"
      ],
      "execution_count": 7,
      "outputs": []
    },
    {
      "cell_type": "code",
      "metadata": {
        "colab": {
          "base_uri": "https://localhost:8080/",
          "height": 206
        },
        "id": "MoIuLVuvLmNf",
        "outputId": "f4156bf2-429e-4a04-fbd8-d689993327c0"
      },
      "source": [
        "songs.head()"
      ],
      "execution_count": 8,
      "outputs": [
        {
          "output_type": "execute_result",
          "data": {
            "text/html": [
              "<div>\n",
              "<style scoped>\n",
              "    .dataframe tbody tr th:only-of-type {\n",
              "        vertical-align: middle;\n",
              "    }\n",
              "\n",
              "    .dataframe tbody tr th {\n",
              "        vertical-align: top;\n",
              "    }\n",
              "\n",
              "    .dataframe thead th {\n",
              "        text-align: right;\n",
              "    }\n",
              "</style>\n",
              "<table border=\"1\" class=\"dataframe\">\n",
              "  <thead>\n",
              "    <tr style=\"text-align: right;\">\n",
              "      <th></th>\n",
              "      <th>song_id</th>\n",
              "      <th>title</th>\n",
              "      <th>release</th>\n",
              "      <th>artist_name</th>\n",
              "      <th>year</th>\n",
              "    </tr>\n",
              "  </thead>\n",
              "  <tbody>\n",
              "    <tr>\n",
              "      <th>0</th>\n",
              "      <td>SOQMMHC12AB0180CB8</td>\n",
              "      <td>Silent Night</td>\n",
              "      <td>Monster Ballads X-Mas</td>\n",
              "      <td>Faster Pussy cat</td>\n",
              "      <td>2003</td>\n",
              "    </tr>\n",
              "    <tr>\n",
              "      <th>1</th>\n",
              "      <td>SOVFVAK12A8C1350D9</td>\n",
              "      <td>Tanssi vaan</td>\n",
              "      <td>Karkuteillä</td>\n",
              "      <td>Karkkiautomaatti</td>\n",
              "      <td>1995</td>\n",
              "    </tr>\n",
              "    <tr>\n",
              "      <th>2</th>\n",
              "      <td>SOGTUKN12AB017F4F1</td>\n",
              "      <td>No One Could Ever</td>\n",
              "      <td>Butter</td>\n",
              "      <td>Hudson Mohawke</td>\n",
              "      <td>2006</td>\n",
              "    </tr>\n",
              "    <tr>\n",
              "      <th>3</th>\n",
              "      <td>SOBNYVR12A8C13558C</td>\n",
              "      <td>Si Vos Querés</td>\n",
              "      <td>De Culo</td>\n",
              "      <td>Yerba Brava</td>\n",
              "      <td>2003</td>\n",
              "    </tr>\n",
              "    <tr>\n",
              "      <th>4</th>\n",
              "      <td>SOHSBXH12A8C13B0DF</td>\n",
              "      <td>Tangle Of Aspens</td>\n",
              "      <td>Rene Ablaze Presents Winter Sessions</td>\n",
              "      <td>Der Mystic</td>\n",
              "      <td>0</td>\n",
              "    </tr>\n",
              "  </tbody>\n",
              "</table>\n",
              "</div>"
            ],
            "text/plain": [
              "              song_id              title  ...       artist_name  year\n",
              "0  SOQMMHC12AB0180CB8       Silent Night  ...  Faster Pussy cat  2003\n",
              "1  SOVFVAK12A8C1350D9        Tanssi vaan  ...  Karkkiautomaatti  1995\n",
              "2  SOGTUKN12AB017F4F1  No One Could Ever  ...    Hudson Mohawke  2006\n",
              "3  SOBNYVR12A8C13558C      Si Vos Querés  ...       Yerba Brava  2003\n",
              "4  SOHSBXH12A8C13B0DF   Tangle Of Aspens  ...        Der Mystic     0\n",
              "\n",
              "[5 rows x 5 columns]"
            ]
          },
          "metadata": {
            "tags": []
          },
          "execution_count": 8
        }
      ]
    },
    {
      "cell_type": "markdown",
      "metadata": {
        "id": "HlFC9Wu5LmNh"
      },
      "source": [
        "Because of the dataset being so big, we are going to resample only 5000 random songs."
      ]
    },
    {
      "cell_type": "code",
      "metadata": {
        "id": "hKgsWLLwLmNj"
      },
      "source": [
        "songs = songs.sample(n=5000).drop('link', axis=1).reset_index(drop=True)"
      ],
      "execution_count": null,
      "outputs": []
    },
    {
      "cell_type": "markdown",
      "metadata": {
        "id": "ZOdr0f-XLmNk"
      },
      "source": [
        "We can notice also the presence of `\\n` in the text, so we are going to remove it."
      ]
    },
    {
      "cell_type": "code",
      "metadata": {
        "id": "RVwbGThqLmNk"
      },
      "source": [
        "songs['text'] = songs['text'].str.replace(r'\\n', '')"
      ],
      "execution_count": null,
      "outputs": []
    },
    {
      "cell_type": "markdown",
      "metadata": {
        "id": "_l4ocZTELmNl"
      },
      "source": [
        "After that, we use TF-IDF vectorizerthat calculates the TF-IDF score for each song lyric, word-by-word. \n",
        "\n",
        "Here, we pay particular attention to the arguments we can specify."
      ]
    },
    {
      "cell_type": "code",
      "metadata": {
        "id": "vJeNp6L3LmNl"
      },
      "source": [
        "tfidf = TfidfVectorizer(analyzer='word', stop_words='english')"
      ],
      "execution_count": null,
      "outputs": []
    },
    {
      "cell_type": "code",
      "metadata": {
        "id": "zbfhi1psLmNl"
      },
      "source": [
        "lyrics_matrix = tfidf.fit_transform(songs['text'])"
      ],
      "execution_count": null,
      "outputs": []
    },
    {
      "cell_type": "markdown",
      "metadata": {
        "id": "sjsppqdwLmNm"
      },
      "source": [
        "*How do we use this matrix for a recommendation?* \n",
        "\n",
        "We now need to calculate the similarity of one lyric to another. We are going to use **cosine similarity**.\n",
        "\n",
        "We want to calculate the cosine similarity of each item with every other item in the dataset. So we just pass the lyrics_matrix as argument."
      ]
    },
    {
      "cell_type": "code",
      "metadata": {
        "id": "MSzQhHIsLmNm"
      },
      "source": [
        "cosine_similarities = cosine_similarity(lyrics_matrix) "
      ],
      "execution_count": null,
      "outputs": []
    },
    {
      "cell_type": "markdown",
      "metadata": {
        "id": "_kHjcCVKLmNn"
      },
      "source": [
        "Once we get the similarities, we'll store in a dictionary the names of the 50  most similar songs for each song in our dataset."
      ]
    },
    {
      "cell_type": "code",
      "metadata": {
        "id": "xUcwydNhLmNn"
      },
      "source": [
        "similarities = {}"
      ],
      "execution_count": null,
      "outputs": []
    },
    {
      "cell_type": "code",
      "metadata": {
        "id": "i8YnQnjqLmNn"
      },
      "source": [
        "for i in range(len(cosine_similarities)):\n",
        "    # Now we'll sort each element in cosine_similarities and get the indexes of the songs. \n",
        "    similar_indices = cosine_similarities[i].argsort()[:-50:-1] \n",
        "    # After that, we'll store in similarities each name of the 50 most similar songs.\n",
        "    # Except the first one that is the same song.\n",
        "    similarities[songs['song'].iloc[i]] = [(cosine_similarities[i][x], songs['song'][x], songs['artist'][x]) for x in similar_indices][1:]"
      ],
      "execution_count": null,
      "outputs": []
    },
    {
      "cell_type": "markdown",
      "metadata": {
        "id": "-xpHVE3xLmNo"
      },
      "source": [
        "After that, all the magic happens. We can use that similarity scores to access the most similar items and give a recommendation.\n",
        "\n",
        "For that, we'll define our Content based recommender class."
      ]
    },
    {
      "cell_type": "code",
      "metadata": {
        "id": "e4w-6_JmLmNo"
      },
      "source": [
        "class ContentBasedRecommender:\n",
        "    def __init__(self, matrix):\n",
        "        self.matrix_similar = matrix\n",
        "\n",
        "    def _print_message(self, song, recom_song):\n",
        "        rec_items = len(recom_song)\n",
        "        \n",
        "        print(f'The {rec_items} recommended songs for {song} are:')\n",
        "        for i in range(rec_items):\n",
        "            print(f\"Number {i+1}:\")\n",
        "            print(f\"{recom_song[i][1]} by {recom_song[i][2]} with {round(recom_song[i][0], 3)} similarity score\") \n",
        "            print(\"--------------------\")\n",
        "        \n",
        "    def recommend(self, recommendation):\n",
        "        # Get song to find recommendations for\n",
        "        song = recommendation['song']\n",
        "        # Get number of songs to recommend\n",
        "        number_songs = recommendation['number_songs']\n",
        "        # Get the number of songs most similars from matrix similarities\n",
        "        recom_song = self.matrix_similar[song][:number_songs]\n",
        "        # print each item\n",
        "        self._print_message(song=song, recom_song=recom_song)"
      ],
      "execution_count": null,
      "outputs": []
    },
    {
      "cell_type": "markdown",
      "metadata": {
        "id": "5AAU0jf0LmNo"
      },
      "source": [
        "Now, instantiate class"
      ]
    },
    {
      "cell_type": "code",
      "metadata": {
        "id": "x48iT2HkLmNp"
      },
      "source": [
        "recommedations = ContentBasedRecommender(similarities)"
      ],
      "execution_count": null,
      "outputs": []
    },
    {
      "cell_type": "markdown",
      "metadata": {
        "id": "z-4rWzZ4LmNp"
      },
      "source": [
        "Then, we are ready to pick a song from the dataset and make a recommendation."
      ]
    },
    {
      "cell_type": "code",
      "metadata": {
        "id": "vf0gD3lbLmNp"
      },
      "source": [
        "recommendation = {\n",
        "    \"song\": songs['song'].iloc[10],\n",
        "    \"number_songs\": 4 \n",
        "}"
      ],
      "execution_count": null,
      "outputs": []
    },
    {
      "cell_type": "code",
      "metadata": {
        "id": "0jWj77N8LmNq",
        "outputId": "0c9972c4-88c5-4ad0-aaf6-62c8b6fc534b"
      },
      "source": [
        "recommedations.recommend(recommendation)"
      ],
      "execution_count": null,
      "outputs": [
        {
          "output_type": "stream",
          "text": [
            "The 4 recommended songs for Jehovah And All That Jazz are:\n",
            "Number 1:\n",
            "Sing by Glen Campbell with 0.166 similarity score\n",
            "--------------------\n",
            "Number 2:\n",
            "Devil Cried by Black Sabbath with 0.149 similarity score\n",
            "--------------------\n",
            "Number 3:\n",
            "Angelique by Kenny Loggins with 0.141 similarity score\n",
            "--------------------\n",
            "Number 4:\n",
            "Up The Devil's Pay by Old 97's with 0.131 similarity score\n",
            "--------------------\n"
          ],
          "name": "stdout"
        }
      ]
    },
    {
      "cell_type": "markdown",
      "metadata": {
        "id": "YO8YpfV8LmNq"
      },
      "source": [
        "And we can pick another random song and recommend again:"
      ]
    },
    {
      "cell_type": "code",
      "metadata": {
        "id": "onmVzq3-LmNq"
      },
      "source": [
        "recommendation2 = {\n",
        "    \"song\": songs['song'].iloc[120],\n",
        "    \"number_songs\": 4 \n",
        "}"
      ],
      "execution_count": null,
      "outputs": []
    },
    {
      "cell_type": "code",
      "metadata": {
        "id": "h9o0N5u8LmNr",
        "outputId": "a8a15f58-005e-466f-e757-1db3e456d2d7"
      },
      "source": [
        "recommedations.recommend(recommendation2)"
      ],
      "execution_count": null,
      "outputs": [
        {
          "output_type": "stream",
          "text": [
            "The 4 recommended songs for I Do It For Your Love are:\n",
            "Number 1:\n",
            "I Love You by Lionel Richie with 0.189 similarity score\n",
            "--------------------\n",
            "Number 2:\n",
            "Just One Love by Michael Bolton with 0.187 similarity score\n",
            "--------------------\n",
            "Number 3:\n",
            "I'm Gonna Sit Right Down And Write Myself A Letter by Nat King Cole with 0.184 similarity score\n",
            "--------------------\n",
            "Number 4:\n",
            "If I Love Again by Barbra Streisand with 0.183 similarity score\n",
            "--------------------\n"
          ],
          "name": "stdout"
        }
      ]
    }
  ]
}